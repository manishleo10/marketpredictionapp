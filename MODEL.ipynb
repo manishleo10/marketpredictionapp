{
 "cells": [
  {
   "cell_type": "code",
   "execution_count": null,
   "id": "a452f835",
   "metadata": {},
   "outputs": [],
   "source": []
  },
  {
   "cell_type": "code",
   "execution_count": 1,
   "id": "f521131f",
   "metadata": {},
   "outputs": [],
   "source": [
    "#importing important libraries\n",
    "import pandas as pd\n",
    "import numpy as np\n",
    "import matplotlib.pyplot as plt\n",
    "import seaborn as sns\n",
    "sns.set()\n",
    "import warnings\n",
    "warnings.filterwarnings('ignore')"
   ]
  },
  {
   "cell_type": "code",
   "execution_count": 2,
   "id": "705eb0c3",
   "metadata": {},
   "outputs": [
    {
     "data": {
      "text/html": [
       "<div>\n",
       "<style scoped>\n",
       "    .dataframe tbody tr th:only-of-type {\n",
       "        vertical-align: middle;\n",
       "    }\n",
       "\n",
       "    .dataframe tbody tr th {\n",
       "        vertical-align: top;\n",
       "    }\n",
       "\n",
       "    .dataframe thead th {\n",
       "        text-align: right;\n",
       "    }\n",
       "</style>\n",
       "<table border=\"1\" class=\"dataframe\">\n",
       "  <thead>\n",
       "    <tr style=\"text-align: right;\">\n",
       "      <th></th>\n",
       "      <th>open</th>\n",
       "      <th>high</th>\n",
       "      <th>low</th>\n",
       "      <th>close</th>\n",
       "      <th>volume</th>\n",
       "      <th>date_parsed</th>\n",
       "      <th>cont_len</th>\n",
       "      <th>cont_pol</th>\n",
       "      <th>cont_sent</th>\n",
       "      <th>date_year</th>\n",
       "      <th>date_month</th>\n",
       "      <th>date_day</th>\n",
       "      <th>sent_neg</th>\n",
       "      <th>sent_neu</th>\n",
       "      <th>sent_pos</th>\n",
       "      <th>target_variable</th>\n",
       "    </tr>\n",
       "  </thead>\n",
       "  <tbody>\n",
       "    <tr>\n",
       "      <th>0</th>\n",
       "      <td>1358.98</td>\n",
       "      <td>1374.71</td>\n",
       "      <td>1358.98</td>\n",
       "      <td>1368.70</td>\n",
       "      <td>593003200.0</td>\n",
       "      <td>2012-04-11</td>\n",
       "      <td>108.142857</td>\n",
       "      <td>0.01</td>\n",
       "      <td>Positive</td>\n",
       "      <td>2012</td>\n",
       "      <td>4</td>\n",
       "      <td>11</td>\n",
       "      <td>0</td>\n",
       "      <td>0</td>\n",
       "      <td>1</td>\n",
       "      <td>0</td>\n",
       "    </tr>\n",
       "    <tr>\n",
       "      <th>1</th>\n",
       "      <td>1368.77</td>\n",
       "      <td>1388.13</td>\n",
       "      <td>1368.77</td>\n",
       "      <td>1387.56</td>\n",
       "      <td>547368832.0</td>\n",
       "      <td>2012-04-12</td>\n",
       "      <td>75.000000</td>\n",
       "      <td>0.11</td>\n",
       "      <td>Positive</td>\n",
       "      <td>2012</td>\n",
       "      <td>4</td>\n",
       "      <td>12</td>\n",
       "      <td>0</td>\n",
       "      <td>0</td>\n",
       "      <td>1</td>\n",
       "      <td>1</td>\n",
       "    </tr>\n",
       "    <tr>\n",
       "      <th>2</th>\n",
       "      <td>1387.61</td>\n",
       "      <td>1387.61</td>\n",
       "      <td>1369.85</td>\n",
       "      <td>1370.26</td>\n",
       "      <td>631237824.0</td>\n",
       "      <td>2012-04-13</td>\n",
       "      <td>73.000000</td>\n",
       "      <td>0.00</td>\n",
       "      <td>Neutral</td>\n",
       "      <td>2012</td>\n",
       "      <td>4</td>\n",
       "      <td>13</td>\n",
       "      <td>0</td>\n",
       "      <td>1</td>\n",
       "      <td>0</td>\n",
       "      <td>0</td>\n",
       "    </tr>\n",
       "    <tr>\n",
       "      <th>3</th>\n",
       "      <td>1370.27</td>\n",
       "      <td>1379.66</td>\n",
       "      <td>1365.38</td>\n",
       "      <td>1369.57</td>\n",
       "      <td>596952128.0</td>\n",
       "      <td>2012-04-16</td>\n",
       "      <td>188.500000</td>\n",
       "      <td>0.13</td>\n",
       "      <td>Positive</td>\n",
       "      <td>2012</td>\n",
       "      <td>4</td>\n",
       "      <td>16</td>\n",
       "      <td>0</td>\n",
       "      <td>0</td>\n",
       "      <td>1</td>\n",
       "      <td>0</td>\n",
       "    </tr>\n",
       "    <tr>\n",
       "      <th>4</th>\n",
       "      <td>1369.57</td>\n",
       "      <td>1392.76</td>\n",
       "      <td>1369.57</td>\n",
       "      <td>1390.78</td>\n",
       "      <td>566529216.0</td>\n",
       "      <td>2012-04-17</td>\n",
       "      <td>235.529412</td>\n",
       "      <td>0.10</td>\n",
       "      <td>Positive</td>\n",
       "      <td>2012</td>\n",
       "      <td>4</td>\n",
       "      <td>17</td>\n",
       "      <td>0</td>\n",
       "      <td>0</td>\n",
       "      <td>1</td>\n",
       "      <td>1</td>\n",
       "    </tr>\n",
       "  </tbody>\n",
       "</table>\n",
       "</div>"
      ],
      "text/plain": [
       "      open     high      low    close       volume date_parsed    cont_len  \\\n",
       "0  1358.98  1374.71  1358.98  1368.70  593003200.0  2012-04-11  108.142857   \n",
       "1  1368.77  1388.13  1368.77  1387.56  547368832.0  2012-04-12   75.000000   \n",
       "2  1387.61  1387.61  1369.85  1370.26  631237824.0  2012-04-13   73.000000   \n",
       "3  1370.27  1379.66  1365.38  1369.57  596952128.0  2012-04-16  188.500000   \n",
       "4  1369.57  1392.76  1369.57  1390.78  566529216.0  2012-04-17  235.529412   \n",
       "\n",
       "   cont_pol cont_sent  date_year  date_month  date_day  sent_neg  sent_neu  \\\n",
       "0      0.01  Positive       2012           4        11         0         0   \n",
       "1      0.11  Positive       2012           4        12         0         0   \n",
       "2      0.00   Neutral       2012           4        13         0         1   \n",
       "3      0.13  Positive       2012           4        16         0         0   \n",
       "4      0.10  Positive       2012           4        17         0         0   \n",
       "\n",
       "   sent_pos  target_variable  \n",
       "0         1                0  \n",
       "1         1                1  \n",
       "2         0                0  \n",
       "3         1                0  \n",
       "4         1                1  "
      ]
     },
     "execution_count": 2,
     "metadata": {},
     "output_type": "execute_result"
    }
   ],
   "source": [
    "#reading the final dataset\n",
    "df = pd.read_csv('clean_final_data.csv')\n",
    "#removing the extra indexed column\n",
    "df = df.drop(columns = 'Unnamed: 0')\n",
    "df.head()"
   ]
  },
  {
   "cell_type": "code",
   "execution_count": 3,
   "id": "83a7c8f5",
   "metadata": {},
   "outputs": [
    {
     "data": {
      "text/plain": [
       "open               float64\n",
       "high               float64\n",
       "low                float64\n",
       "close              float64\n",
       "volume             float64\n",
       "date_parsed         object\n",
       "cont_len           float64\n",
       "cont_pol           float64\n",
       "cont_sent           object\n",
       "date_year            int64\n",
       "date_month           int64\n",
       "date_day             int64\n",
       "sent_neg             int64\n",
       "sent_neu             int64\n",
       "sent_pos             int64\n",
       "target_variable      int64\n",
       "dtype: object"
      ]
     },
     "execution_count": 3,
     "metadata": {},
     "output_type": "execute_result"
    }
   ],
   "source": [
    "#checking the formatting or data types of the features\n",
    "df.dtypes"
   ]
  },
  {
   "cell_type": "code",
   "execution_count": 4,
   "id": "1eed9c7d",
   "metadata": {},
   "outputs": [],
   "source": [
    "#changing the datatype to datetime\n",
    "df['date_parsed'] = pd.to_datetime(df['date_parsed'],format=\"%Y-%m-%d\")"
   ]
  },
  {
   "cell_type": "markdown",
   "id": "9bc98d2f",
   "metadata": {},
   "source": [
    "## Assign the dependent and independent features into different variable."
   ]
  },
  {
   "cell_type": "code",
   "execution_count": 5,
   "id": "e8a37c8d",
   "metadata": {},
   "outputs": [
    {
     "data": {
      "text/html": [
       "<div>\n",
       "<style scoped>\n",
       "    .dataframe tbody tr th:only-of-type {\n",
       "        vertical-align: middle;\n",
       "    }\n",
       "\n",
       "    .dataframe tbody tr th {\n",
       "        vertical-align: top;\n",
       "    }\n",
       "\n",
       "    .dataframe thead th {\n",
       "        text-align: right;\n",
       "    }\n",
       "</style>\n",
       "<table border=\"1\" class=\"dataframe\">\n",
       "  <thead>\n",
       "    <tr style=\"text-align: right;\">\n",
       "      <th></th>\n",
       "      <th>open</th>\n",
       "      <th>high</th>\n",
       "      <th>low</th>\n",
       "      <th>close</th>\n",
       "      <th>volume</th>\n",
       "      <th>cont_len</th>\n",
       "      <th>cont_pol</th>\n",
       "      <th>date_year</th>\n",
       "      <th>date_month</th>\n",
       "      <th>date_day</th>\n",
       "      <th>sent_neg</th>\n",
       "      <th>sent_neu</th>\n",
       "      <th>sent_pos</th>\n",
       "    </tr>\n",
       "  </thead>\n",
       "  <tbody>\n",
       "    <tr>\n",
       "      <th>0</th>\n",
       "      <td>1358.98</td>\n",
       "      <td>1374.71</td>\n",
       "      <td>1358.98</td>\n",
       "      <td>1368.70</td>\n",
       "      <td>593003200.0</td>\n",
       "      <td>108.142857</td>\n",
       "      <td>0.01</td>\n",
       "      <td>2012</td>\n",
       "      <td>4</td>\n",
       "      <td>11</td>\n",
       "      <td>0</td>\n",
       "      <td>0</td>\n",
       "      <td>1</td>\n",
       "    </tr>\n",
       "    <tr>\n",
       "      <th>1</th>\n",
       "      <td>1368.77</td>\n",
       "      <td>1388.13</td>\n",
       "      <td>1368.77</td>\n",
       "      <td>1387.56</td>\n",
       "      <td>547368832.0</td>\n",
       "      <td>75.000000</td>\n",
       "      <td>0.11</td>\n",
       "      <td>2012</td>\n",
       "      <td>4</td>\n",
       "      <td>12</td>\n",
       "      <td>0</td>\n",
       "      <td>0</td>\n",
       "      <td>1</td>\n",
       "    </tr>\n",
       "    <tr>\n",
       "      <th>2</th>\n",
       "      <td>1387.61</td>\n",
       "      <td>1387.61</td>\n",
       "      <td>1369.85</td>\n",
       "      <td>1370.26</td>\n",
       "      <td>631237824.0</td>\n",
       "      <td>73.000000</td>\n",
       "      <td>0.00</td>\n",
       "      <td>2012</td>\n",
       "      <td>4</td>\n",
       "      <td>13</td>\n",
       "      <td>0</td>\n",
       "      <td>1</td>\n",
       "      <td>0</td>\n",
       "    </tr>\n",
       "    <tr>\n",
       "      <th>3</th>\n",
       "      <td>1370.27</td>\n",
       "      <td>1379.66</td>\n",
       "      <td>1365.38</td>\n",
       "      <td>1369.57</td>\n",
       "      <td>596952128.0</td>\n",
       "      <td>188.500000</td>\n",
       "      <td>0.13</td>\n",
       "      <td>2012</td>\n",
       "      <td>4</td>\n",
       "      <td>16</td>\n",
       "      <td>0</td>\n",
       "      <td>0</td>\n",
       "      <td>1</td>\n",
       "    </tr>\n",
       "    <tr>\n",
       "      <th>4</th>\n",
       "      <td>1369.57</td>\n",
       "      <td>1392.76</td>\n",
       "      <td>1369.57</td>\n",
       "      <td>1390.78</td>\n",
       "      <td>566529216.0</td>\n",
       "      <td>235.529412</td>\n",
       "      <td>0.10</td>\n",
       "      <td>2012</td>\n",
       "      <td>4</td>\n",
       "      <td>17</td>\n",
       "      <td>0</td>\n",
       "      <td>0</td>\n",
       "      <td>1</td>\n",
       "    </tr>\n",
       "  </tbody>\n",
       "</table>\n",
       "</div>"
      ],
      "text/plain": [
       "      open     high      low    close       volume    cont_len  cont_pol  \\\n",
       "0  1358.98  1374.71  1358.98  1368.70  593003200.0  108.142857      0.01   \n",
       "1  1368.77  1388.13  1368.77  1387.56  547368832.0   75.000000      0.11   \n",
       "2  1387.61  1387.61  1369.85  1370.26  631237824.0   73.000000      0.00   \n",
       "3  1370.27  1379.66  1365.38  1369.57  596952128.0  188.500000      0.13   \n",
       "4  1369.57  1392.76  1369.57  1390.78  566529216.0  235.529412      0.10   \n",
       "\n",
       "   date_year  date_month  date_day  sent_neg  sent_neu  sent_pos  \n",
       "0       2012           4        11         0         0         1  \n",
       "1       2012           4        12         0         0         1  \n",
       "2       2012           4        13         0         1         0  \n",
       "3       2012           4        16         0         0         1  \n",
       "4       2012           4        17         0         0         1  "
      ]
     },
     "execution_count": 5,
     "metadata": {},
     "output_type": "execute_result"
    }
   ],
   "source": [
    "#independent variable\n",
    "X = df.drop(['target_variable','date_parsed','cont_sent'], axis = 1)\n",
    "X.head()"
   ]
  },
  {
   "cell_type": "code",
   "execution_count": 6,
   "id": "5f400d4e",
   "metadata": {},
   "outputs": [
    {
     "data": {
      "text/plain": [
       "0       0\n",
       "1       1\n",
       "2       0\n",
       "3       0\n",
       "4       1\n",
       "       ..\n",
       "1632    1\n",
       "1633    0\n",
       "1634    0\n",
       "1635    1\n",
       "1636    1\n",
       "Name: target_variable, Length: 1637, dtype: int64"
      ]
     },
     "execution_count": 6,
     "metadata": {},
     "output_type": "execute_result"
    }
   ],
   "source": [
    "#dependent variable\n",
    "y = df.pop('target_variable')\n",
    "y"
   ]
  },
  {
   "cell_type": "code",
   "execution_count": 7,
   "id": "b2a8cc4a",
   "metadata": {},
   "outputs": [
    {
     "data": {
      "text/plain": [
       "1    885\n",
       "0    752\n",
       "Name: target_variable, dtype: int64"
      ]
     },
     "execution_count": 7,
     "metadata": {},
     "output_type": "execute_result"
    }
   ],
   "source": [
    "y.value_counts()"
   ]
  },
  {
   "cell_type": "code",
   "execution_count": 8,
   "id": "c699c9b3",
   "metadata": {},
   "outputs": [],
   "source": [
    "#splitting data into train and test\n",
    "from sklearn.model_selection import train_test_split\n",
    "X_train, X_test, y_train, y_test = train_test_split(X, y, test_size = 0.2, random_state = 42)"
   ]
  },
  {
   "cell_type": "markdown",
   "id": "24043358",
   "metadata": {},
   "source": [
    "### Standardizing the data before applying logistic regression"
   ]
  },
  {
   "cell_type": "code",
   "execution_count": 9,
   "id": "0a592819",
   "metadata": {},
   "outputs": [],
   "source": [
    "from sklearn.preprocessing import StandardScaler\n",
    "sc = StandardScaler()\n",
    "X_train = sc.fit_transform(X_train)\n",
    "X_test = sc.transform(X_test)"
   ]
  },
  {
   "cell_type": "code",
   "execution_count": 10,
   "id": "1531607c",
   "metadata": {},
   "outputs": [
    {
     "data": {
      "text/plain": [
       "LogisticRegression()"
      ]
     },
     "execution_count": 10,
     "metadata": {},
     "output_type": "execute_result"
    }
   ],
   "source": [
    "#importing LogisticRegression model\n",
    "from sklearn.linear_model import LogisticRegression\n",
    "\n",
    "#fitting the model on training dataset\n",
    "model = LogisticRegression()\n",
    "model.fit(X_train, y_train)"
   ]
  },
  {
   "cell_type": "code",
   "execution_count": 11,
   "id": "8e48d362",
   "metadata": {},
   "outputs": [
    {
     "data": {
      "text/plain": [
       "array([1, 1, 1, 0, 1, 1, 1, 1, 0, 1, 1, 1, 1, 1, 1, 1, 0, 1, 1, 1, 1, 0,\n",
       "       1, 0, 0, 1, 1, 1, 1, 0, 1, 1, 1, 0, 1, 1, 0, 1, 0, 1, 1, 0, 1, 0,\n",
       "       1, 1, 1, 1, 1, 1, 1, 1, 1, 1, 1, 1, 1, 0, 1, 1, 1, 1, 1, 1, 1, 1,\n",
       "       1, 1, 1, 1, 1, 1, 0, 1, 1, 1, 1, 1, 1, 1, 0, 1, 0, 1, 1, 1, 1, 1,\n",
       "       1, 1, 1, 0, 1, 1, 1, 1, 1, 1, 0, 1, 0, 1, 1, 1, 1, 0, 1, 1, 1, 1,\n",
       "       0, 1, 0, 1, 1, 1, 0, 1, 1, 1, 1, 1, 0, 0, 0, 1, 1, 0, 1, 1, 1, 0,\n",
       "       0, 1, 0, 1, 1, 1, 1, 0, 1, 1, 1, 1, 1, 1, 1, 1, 1, 1, 0, 0, 1, 1,\n",
       "       1, 0, 1, 1, 1, 1, 1, 0, 1, 1, 0, 1, 0, 1, 1, 1, 1, 1, 1, 1, 1, 1,\n",
       "       1, 1, 1, 0, 1, 1, 0, 1, 1, 1, 1, 1, 0, 1, 1, 1, 1, 0, 1, 1, 1, 1,\n",
       "       0, 0, 1, 1, 1, 0, 0, 1, 1, 1, 1, 1, 1, 1, 1, 1, 0, 0, 0, 1, 1, 1,\n",
       "       1, 1, 1, 1, 1, 1, 1, 1, 1, 0, 1, 1, 1, 1, 0, 1, 1, 0, 1, 1, 0, 1,\n",
       "       1, 1, 0, 0, 1, 1, 1, 1, 1, 1, 1, 1, 1, 0, 1, 1, 1, 1, 0, 0, 1, 1,\n",
       "       1, 0, 1, 0, 1, 1, 1, 1, 1, 1, 1, 1, 1, 1, 0, 1, 0, 1, 1, 1, 0, 1,\n",
       "       1, 0, 1, 1, 0, 0, 0, 0, 0, 1, 1, 0, 1, 1, 1, 0, 1, 0, 1, 1, 1, 0,\n",
       "       0, 0, 1, 1, 1, 0, 1, 1, 1, 1, 0, 1, 1, 1, 0, 0, 1, 0, 1, 0],\n",
       "      dtype=int64)"
      ]
     },
     "execution_count": 11,
     "metadata": {},
     "output_type": "execute_result"
    }
   ],
   "source": [
    "#model prediction\n",
    "y_pred = model.predict(X_test)\n",
    "y_pred"
   ]
  },
  {
   "cell_type": "code",
   "execution_count": 12,
   "id": "8d4c3ae1",
   "metadata": {},
   "outputs": [
    {
     "name": "stdout",
     "output_type": "stream",
     "text": [
      "The differences between actual y_train and trained y_train seems to be  0.6913674560733384\n"
     ]
    }
   ],
   "source": [
    "score1 = model.score(X_train, y_train)\n",
    "print('The differences between actual y_train and trained y_train seems to be ', score1)"
   ]
  },
  {
   "cell_type": "code",
   "execution_count": 13,
   "id": "eb2cb52a",
   "metadata": {},
   "outputs": [
    {
     "name": "stdout",
     "output_type": "stream",
     "text": [
      "The differences between actual y_test and trained y_pred seems to be  0.6798780487804879\n"
     ]
    }
   ],
   "source": [
    "score2 = model.score(X_test, y_test)\n",
    "print('The differences between actual y_test and trained y_pred seems to be ', score2)"
   ]
  },
  {
   "cell_type": "markdown",
   "id": "2111b25c",
   "metadata": {},
   "source": [
    "## Evaluation metrics"
   ]
  },
  {
   "cell_type": "code",
   "execution_count": 14,
   "id": "10a55da7",
   "metadata": {},
   "outputs": [
    {
     "name": "stdout",
     "output_type": "stream",
     "text": [
      "              precision    recall  f1-score   support\n",
      "\n",
      "           0       0.85      0.42      0.56       161\n",
      "           1       0.62      0.93      0.75       167\n",
      "\n",
      "    accuracy                           0.68       328\n",
      "   macro avg       0.74      0.68      0.66       328\n",
      "weighted avg       0.74      0.68      0.66       328\n",
      "\n",
      "The accuracy score is  0.6798780487804879 / 67.98780487804879 %.\n"
     ]
    }
   ],
   "source": [
    "from sklearn.metrics import classification_report, accuracy_score\n",
    "\n",
    "y_pred = model.predict(X_test)\n",
    "print(classification_report(y_test,y_pred))\n",
    "acc_score = accuracy_score(y_test,y_pred)\n",
    "acc_score_per = acc_score * 100\n",
    "print('The accuracy score is ', acc_score, '/', acc_score_per , '%.')"
   ]
  },
  {
   "cell_type": "markdown",
   "id": "a1e53441",
   "metadata": {},
   "source": [
    "## Confustion matrix"
   ]
  },
  {
   "cell_type": "code",
   "execution_count": 15,
   "id": "943f9637",
   "metadata": {},
   "outputs": [
    {
     "data": {
      "text/plain": [
       "array([[ 68,  93],\n",
       "       [ 12, 155]], dtype=int64)"
      ]
     },
     "execution_count": 15,
     "metadata": {},
     "output_type": "execute_result"
    }
   ],
   "source": [
    "\n",
    "from sklearn.metrics import confusion_matrix\n",
    "confusion_matrix(y_test,y_pred)"
   ]
  },
  {
   "cell_type": "code",
   "execution_count": 16,
   "id": "af53d149",
   "metadata": {},
   "outputs": [
    {
     "data": {
      "text/plain": [
       "Text(30.5, 0.5, 'True Label')"
      ]
     },
     "execution_count": 16,
     "metadata": {},
     "output_type": "execute_result"
    },
    {
     "data": {
      "image/png": "[encoded data removed]",
      "text/plain": [
       "<Figure size 432x288 with 2 Axes>"
      ]
     },
     "metadata": {},
     "output_type": "display_data"
    }
   ],
   "source": [
    "#heatmap of confusion matrix\n",
    "cm = confusion_matrix(y_test,y_pred)\n",
    "sns.heatmap(cm,annot=True,fmt='g',cmap='Blues')\n",
    "plt.xlabel('Predicted Label')\n",
    "plt.ylabel('True Label')"
   ]
  },
  {
   "cell_type": "markdown",
   "id": "d90974ab",
   "metadata": {},
   "source": [
    "## Reciever Operating Characteristics Curve (ROC Curve)"
   ]
  },
  {
   "cell_type": "code",
   "execution_count": 17,
   "id": "b4ec20cb",
   "metadata": {},
   "outputs": [
    {
     "data": {
      "image/png": "[encoded data removed]",
      "text/plain": [
       "<Figure size 432x288 with 1 Axes>"
      ]
     },
     "metadata": {},
     "output_type": "display_data"
    },
    {
     "name": "stdout",
     "output_type": "stream",
     "text": [
      "The ROC score is  0.813553018187228 / 81.35530181872281 %.\n"
     ]
    }
   ],
   "source": [
    "from sklearn.metrics import roc_curve, roc_auc_score, auc\n",
    "\n",
    "pred_prob = model.predict_proba(X_test)[::,1]\n",
    "fpr_log,tpr_log,_ =roc_curve(y_test, pred_prob)\n",
    "roc_score = roc_auc_score(y_test, pred_prob)\n",
    "roc_score_per = roc_score * 100\n",
    "\n",
    "plt.plot(fpr_log,tpr_log,label = 'LogisticRegression auc={:.4f}'.format(roc_score))\n",
    "plt.plot([0,1],[0,1],'k--')\n",
    "plt.xlabel('False Positive Rate')\n",
    "plt.ylabel('True Positive Rate')\n",
    "plt.title('AUC-ROC Curve of Logistic Regression')\n",
    "plt.legend(loc=4)\n",
    "plt.show()\n",
    "\n",
    "print('The ROC score is ', roc_score, '/', roc_score_per , '%.')"
   ]
  },
  {
   "cell_type": "markdown",
   "id": "9f200922",
   "metadata": {},
   "source": [
    "## Summary:\n",
    "The left corner of our model is quite near to top-left corner but not exactly so the roc curve of our model is average. \\ In general AUC of 0.8-0.9 is considered good but above 0.9 is considered excellent. \\ And also our accuracy score for model is not that good so let's try some Hyperparameter tuning."
   ]
  },
  {
   "cell_type": "markdown",
   "id": "a5366812",
   "metadata": {},
   "source": [
    "## Hyperparameter Tuning\n",
    "There are various different methods for Hyperparameter Tuning But we don't have that great number of independent features so we'll choose GridSearchCV for hyperparameter tuning for our model. Most of the variables in algorithms cannot be changed (parameters) but we can change few parameterss (Hyperparameters) to tune our Logistic Regression model like:\n",
    "\n",
    "1. estimator: In this we have to pass the models or functions on which we want to use GridSearchCV\n",
    "2. param_grid: Dictionary or list of parameters of models or function in which GridSearchCV have to select the best.\n",
    "3. Scoring: It is used as a evaluating metric for the model performance to decide the best hyperparameters, if not especified then it uses estimator score.\n",
    "4. cv : In this we have to pass a interger value, as it signifies the number of splits that is needed for cross validation. By default is set as five.\n",
    "5. n_jobs : This signifies the number of jobs to be run in parallel, -1 signifies to use all processor."
   ]
  },
  {
   "cell_type": "code",
   "execution_count": 18,
   "id": "73375802",
   "metadata": {},
   "outputs": [],
   "source": [
    "from sklearn.model_selection import GridSearchCV\n",
    "\n",
    "#Penalty for handling the overfitting and underfitting\n",
    "penalty=['l1', 'l2', 'elasticnet']\n",
    "#Algorithm to use in the optimization problem.\n",
    "solver=['newton-cg', 'lbfgs', 'liblinear', 'sag', 'saga']\n",
    "#Maximum number of iterations taken for the solvers to converge\n",
    "max_iter=[100,200,300,350]"
   ]
  },
  {
   "cell_type": "code",
   "execution_count": 19,
   "id": "b316226a",
   "metadata": {},
   "outputs": [],
   "source": [
    "#creating a random grid\n",
    "random_grid={'penalty':penalty,\n",
    "             'solver':solver,\n",
    "             'max_iter':max_iter,\n",
    "             }"
   ]
  },
  {
   "cell_type": "code",
   "execution_count": 20,
   "id": "f60ac320",
   "metadata": {},
   "outputs": [],
   "source": [
    "# Cross validation - 20\n",
    "log_reg_grid_search=GridSearchCV(estimator=model, param_grid=random_grid, cv=20, n_jobs=-1, verbose=2)"
   ]
  },
  {
   "cell_type": "code",
   "execution_count": 21,
   "id": "215d4d9f",
   "metadata": {},
   "outputs": [
    {
     "name": "stdout",
     "output_type": "stream",
     "text": [
      "Fitting 20 folds for each of 60 candidates, totalling 1200 fits\n"
     ]
    },
    {
     "data": {
      "text/plain": [
       "GridSearchCV(cv=20, estimator=LogisticRegression(), n_jobs=-1,\n",
       "             param_grid={'max_iter': [100, 200, 300, 350],\n",
       "                         'penalty': ['l1', 'l2', 'elasticnet'],\n",
       "                         'solver': ['newton-cg', 'lbfgs', 'liblinear', 'sag',\n",
       "                                    'saga']},\n",
       "             verbose=2)"
      ]
     },
     "execution_count": 21,
     "metadata": {},
     "output_type": "execute_result"
    }
   ],
   "source": [
    "log_reg_grid_search.fit(X_train,y_train)"
   ]
  },
  {
   "cell_type": "code",
   "execution_count": 22,
   "id": "f44b848c",
   "metadata": {},
   "outputs": [
    {
     "data": {
      "text/plain": [
       "{'max_iter': 100, 'penalty': 'l1', 'solver': 'liblinear'}"
      ]
     },
     "execution_count": 22,
     "metadata": {},
     "output_type": "execute_result"
    }
   ],
   "source": [
    "log_reg_grid_search.best_params_"
   ]
  },
  {
   "cell_type": "code",
   "execution_count": 23,
   "id": "bc5d22e5",
   "metadata": {},
   "outputs": [
    {
     "name": "stdout",
     "output_type": "stream",
     "text": [
      "The differences between actual y_train and trained y_train seems to be  0.8938120702826585\n",
      "The differences between actual y_test and trained y_pred seems to be  0.9390243902439024\n"
     ]
    }
   ],
   "source": [
    "score1 = log_reg_grid_search.score(X_train, y_train)\n",
    "print('The differences between actual y_train and trained y_train seems to be ', score1)\n",
    "\n",
    "score2 = log_reg_grid_search.score(X_test, y_test)\n",
    "print('The differences between actual y_test and trained y_pred seems to be ', score2)"
   ]
  },
  {
   "cell_type": "code",
   "execution_count": 24,
   "id": "c5a88ad5",
   "metadata": {},
   "outputs": [
    {
     "name": "stdout",
     "output_type": "stream",
     "text": [
      "              precision    recall  f1-score   support\n",
      "\n",
      "           0       0.95      0.92      0.94       161\n",
      "           1       0.92      0.96      0.94       167\n",
      "\n",
      "    accuracy                           0.94       328\n",
      "   macro avg       0.94      0.94      0.94       328\n",
      "weighted avg       0.94      0.94      0.94       328\n",
      "\n",
      "The accuracy score is  0.9390243902439024 / 93.90243902439023 %.\n"
     ]
    }
   ],
   "source": [
    "from sklearn.metrics import classification_report, accuracy_score\n",
    "\n",
    "y_pred = log_reg_grid_search.predict(X_test)\n",
    "print(classification_report(y_test,y_pred))\n",
    "acc_score = accuracy_score(y_test,y_pred)\n",
    "acc_score_per = acc_score * 100\n",
    "print('The accuracy score is ', acc_score, '/', acc_score_per , '%.')"
   ]
  },
  {
   "cell_type": "markdown",
   "id": "7da92f28",
   "metadata": {},
   "source": [
    "## Summary:\n",
    "Accuracy score:\n",
    "\n",
    "Before Hyperparameter tuning: 0.6798780487804879 / 67.98780487804879 %. \\ After Hyperparameter tunign: 0.9390243902439024 / 93.90243902439023 %.\n",
    "\n",
    "Hence, we can see how our accuracy has gradually changed after Hyperparameter tuning."
   ]
  },
  {
   "cell_type": "code",
   "execution_count": 25,
   "id": "a33731ea",
   "metadata": {},
   "outputs": [
    {
     "data": {
      "text/plain": [
       "array([[148,  13],\n",
       "       [  7, 160]], dtype=int64)"
      ]
     },
     "execution_count": 25,
     "metadata": {},
     "output_type": "execute_result"
    }
   ],
   "source": [
    "from sklearn.metrics import confusion_matrix\n",
    "confusion_matrix(y_test,y_pred)"
   ]
  },
  {
   "cell_type": "code",
   "execution_count": 26,
   "id": "abc7495c",
   "metadata": {},
   "outputs": [
    {
     "data": {
      "text/plain": [
       "Text(30.5, 0.5, 'True Label')"
      ]
     },
     "execution_count": 26,
     "metadata": {},
     "output_type": "execute_result"
    },
    {
     "data": {
      "image/png": "[encoded data removed]",
      "text/plain": [
       "<Figure size 432x288 with 2 Axes>"
      ]
     },
     "metadata": {},
     "output_type": "display_data"
    }
   ],
   "source": [
    "cm = confusion_matrix(y_test,y_pred)\n",
    "sns.heatmap(cm,annot=True,fmt='g',cmap='Blues')\n",
    "plt.xlabel('Predicted Label')\n",
    "plt.ylabel('True Label')"
   ]
  },
  {
   "cell_type": "markdown",
   "id": "bc607443",
   "metadata": {},
   "source": [
    "\n",
    "## Summary:\n",
    "True Negative: 148 (Before Hyperparameter Tuning: 68) \\ False Positive: 13 (Before Hyperparameter Tuning: 93) \\ False Negative: 7 (Before Hyperparameter Tuning: 12) \\ True Positive: 160 (Before Hyperparameter Tuning: 155)\n",
    "\n",
    "Hence, we can say our model is doing great after hyperparameter tuning."
   ]
  },
  {
   "cell_type": "code",
   "execution_count": 27,
   "id": "7d315284",
   "metadata": {},
   "outputs": [
    {
     "data": {
      "image/png": "[encoded data removed]",
      "text/plain": [
       "<Figure size 432x288 with 1 Axes>"
      ]
     },
     "metadata": {},
     "output_type": "display_data"
    },
    {
     "name": "stdout",
     "output_type": "stream",
     "text": [
      "The AUC is  0.9898092014728307 / 98.98092014728307 %.\n"
     ]
    }
   ],
   "source": [
    "from sklearn.metrics import roc_curve, roc_auc_score, auc\n",
    "\n",
    "pred_prob = log_reg_grid_search.predict_proba(X_test)[::,1]\n",
    "fpr_log,tpr_log,_ =roc_curve(y_test, pred_prob)\n",
    "roc_score = roc_auc_score(y_test, pred_prob)\n",
    "roc_score_per = roc_score * 100\n",
    "\n",
    "plt.plot(fpr_log,tpr_log,label = 'LogisticRegression auc={:.4f}'.format(roc_score))\n",
    "plt.plot([0,1],[0,1],'k--')\n",
    "plt.xlabel('False Positive Rate')\n",
    "plt.ylabel('True Positive Rate')\n",
    "plt.title('AUC-ROC Curve of Logistic Regression')\n",
    "plt.legend(loc=4)\n",
    "plt.show()\n",
    "\n",
    "print('The AUC is ', roc_score, '/', roc_score_per , '%.')"
   ]
  },
  {
   "cell_type": "markdown",
   "id": "bc41c9f8",
   "metadata": {},
   "source": [
    "## Summary:\n",
    "The AUC score is 0.98988358686354 / 98.988358686354 % (AUC value about 0.9 is considered outstanding). Hence model has satisfying AUC score.\n",
    "From the curve also we can see, the line is so close to top-left corner. Hence, our model is really good."
   ]
  },
  {
   "cell_type": "markdown",
   "id": "05ae278c",
   "metadata": {},
   "source": [
    "## Pickling"
   ]
  },
  {
   "cell_type": "code",
   "execution_count": 28,
   "id": "50ad6fea",
   "metadata": {},
   "outputs": [],
   "source": [
    "import pickle\n",
    "# Open a file, where you want to store the data\n",
    "file = open('stock_log_reg.pkl', 'wb')\n",
    "\n",
    "# Dump information to that file\n",
    "pickle.dump(log_reg_grid_search, file)\n",
    "file.close()"
   ]
  },
  {
   "cell_type": "code",
   "execution_count": null,
   "id": "98c9c867",
   "metadata": {},
   "outputs": [],
   "source": []
  }
 ],
 "metadata": {
  "kernelspec": {
   "display_name": "Python 3",
   "language": "python",
   "name": "python3"
  },
  "language_info": {
   "codemirror_mode": {
    "name": "ipython",
    "version": 3
   },
   "file_extension": ".py",
   "mimetype": "text/x-python",
   "name": "python",
   "nbconvert_exporter": "python",
   "pygments_lexer": "ipython3",
   "version": "3.8.8"
  }
 },
 "nbformat": 4,
 "nbformat_minor": 5
}
